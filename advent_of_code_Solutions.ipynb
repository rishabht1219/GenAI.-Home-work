{
 "cells": [
  {
   "cell_type": "markdown",
   "metadata": {},
   "source": [
    "# Task 1: Work with code:"
   ]
  },
  {
   "cell_type": "markdown",
   "metadata": {},
   "source": [
    "# --- Part One ---"
   ]
  },
  {
   "cell_type": "code",
   "execution_count": 7,
   "metadata": {},
   "outputs": [
    {
     "data": {
      "text/plain": [
       "'--- Day 1: Trebuchet?! ---\\nSomething is wrong with global snow production, and you\\'ve been selected to take a look. The Elves have even given you a map; on it, they\\'ve used stars to mark the top fifty locations that are likely to be having problems.\\n\\nYou\\'ve been doing this long enough to know that to restore snow operations, you need to check all fifty stars by December 25th.\\n\\nCollect stars by solving puzzles. Two puzzles will be made available on each day in the Advent calendar; the second puzzle is unlocked when you complete the first. Each puzzle grants one star. Good luck!\\n\\nYou try to ask why they can\\'t just use a weather machine (\"not powerful enough\") and where they\\'re even sending you (\"the sky\") and why your map looks mostly blank (\"you sure ask a lot of questions\") and hang on did you just say the sky (\"of course, where do you think snow comes from\") when you realize that the Elves are already loading you into a trebuchet (\"please hold still, we need to strap you in\").\\n\\nAs they\\'re making the final adjustments, they discover that their calibration document (your puzzle input) has been amended by a very young Elf who was apparently just excited to show off her art skills. Consequently, the Elves are having trouble reading the values on the document.\\n\\nThe newly-improved calibration document consists of lines of text; each line originally contained a specific calibration value that the Elves now need to recover. On each line, the calibration value can be found by combining the first digit and the last digit (in that order) to form a single two-digit number.\\n\\nFor example:\\n\\n1abc2\\npqr3stu8vwx\\na1b2c3d4e5f\\ntreb7uchet\\nIn this example, the calibration values of these four lines are 12, 38, 15, and 77. Adding these together produces 142.\\n\\nConsider your entire calibration document. What is the sum of all of the calibration values?\\n\\nYour puzzle answer was 56397.'"
      ]
     },
     "execution_count": 7,
     "metadata": {},
     "output_type": "execute_result"
    }
   ],
   "source": [
    "'''--- Day 1: Trebuchet?! ---\n",
    "Something is wrong with global snow production, and you've been selected to take a look. The Elves have even given you a map; on it, they've used stars to mark the top fifty locations that are likely to be having problems.\n",
    "\n",
    "You've been doing this long enough to know that to restore snow operations, you need to check all fifty stars by December 25th.\n",
    "\n",
    "Collect stars by solving puzzles. Two puzzles will be made available on each day in the Advent calendar; the second puzzle is unlocked when you complete the first. Each puzzle grants one star. Good luck!\n",
    "\n",
    "You try to ask why they can't just use a weather machine (\"not powerful enough\") and where they're even sending you (\"the sky\") and why your map looks mostly blank (\"you sure ask a lot of questions\") and hang on did you just say the sky (\"of course, where do you think snow comes from\") when you realize that the Elves are already loading you into a trebuchet (\"please hold still, we need to strap you in\").\n",
    "\n",
    "As they're making the final adjustments, they discover that their calibration document (your puzzle input) has been amended by a very young Elf who was apparently just excited to show off her art skills. Consequently, the Elves are having trouble reading the values on the document.\n",
    "\n",
    "The newly-improved calibration document consists of lines of text; each line originally contained a specific calibration value that the Elves now need to recover. On each line, the calibration value can be found by combining the first digit and the last digit (in that order) to form a single two-digit number.\n",
    "\n",
    "For example:\n",
    "\n",
    "1abc2\n",
    "pqr3stu8vwx\n",
    "a1b2c3d4e5f\n",
    "treb7uchet\n",
    "In this example, the calibration values of these four lines are 12, 38, 15, and 77. Adding these together produces 142.\n",
    "\n",
    "Consider your entire calibration document. What is the sum of all of the calibration values?\n",
    "\n",
    "Your puzzle answer was 56397.'''"
   ]
  },
  {
   "cell_type": "code",
   "execution_count": 3,
   "metadata": {},
   "outputs": [
    {
     "name": "stdout",
     "output_type": "stream",
     "text": [
      "The sum of all calibration values is: 56397\n"
     ]
    }
   ],
   "source": [
    "def extract_calibration_value(line):\n",
    "    digits = [char for char in line if char.isdigit()]\n",
    "    if not digits:\n",
    "        return 0\n",
    "    return int(digits[0] + digits[-1])\n",
    "\n",
    "total_sum = 0\n",
    "\n",
    "with open(r\"C:\\Users\\Rishabh\\Documents\\Dataart.txt\", 'r') as file:\n",
    "    for line in file:\n",
    "        calibration_value = extract_calibration_value(line.strip())\n",
    "        total_sum += calibration_value\n",
    "\n",
    "print(f\"The sum of all calibration values is: {total_sum}\")"
   ]
  },
  {
   "cell_type": "markdown",
   "metadata": {},
   "source": [
    "# --- Part Two ---"
   ]
  },
  {
   "cell_type": "code",
   "execution_count": 8,
   "metadata": {},
   "outputs": [
    {
     "data": {
      "text/plain": [
       "'--- Part Two ---\\nYour calculation isn\\'t quite right. It looks like some of the digits are actually spelled out with letters: one, two, three, four, five, six, seven, eight, and nine also count as valid \"digits\".\\n\\nEquipped with this new information, you now need to find the real first and last digit on each line. For example:\\n\\ntwo1nine\\neightwothree\\nabcone2threexyz\\nxtwone3four\\n4nineeightseven2\\nzoneight234\\n7pqrstsixteen\\nIn this example, the calibration values are 29, 83, 13, 24, 42, 14, and 76. Adding these together produces 281.\\n\\nWhat is the sum of all of the calibration values?\\n\\nYour puzzle answer was 55701.'"
      ]
     },
     "execution_count": 8,
     "metadata": {},
     "output_type": "execute_result"
    }
   ],
   "source": [
    "'''--- Part Two ---\n",
    "Your calculation isn't quite right. It looks like some of the digits are actually spelled out with letters: one, two, three, four, five, six, seven, eight, and nine also count as valid \"digits\".\n",
    "\n",
    "Equipped with this new information, you now need to find the real first and last digit on each line. For example:\n",
    "\n",
    "two1nine\n",
    "eightwothree\n",
    "abcone2threexyz\n",
    "xtwone3four\n",
    "4nineeightseven2\n",
    "zoneight234\n",
    "7pqrstsixteen\n",
    "In this example, the calibration values are 29, 83, 13, 24, 42, 14, and 76. Adding these together produces 281.\n",
    "\n",
    "What is the sum of all of the calibration values?\n",
    "\n",
    "Your puzzle answer was 55701.'''"
   ]
  },
  {
   "cell_type": "code",
   "execution_count": 5,
   "metadata": {},
   "outputs": [
    {
     "name": "stdout",
     "output_type": "stream",
     "text": [
      "The sum of all calibration values is: 55701\n"
     ]
    }
   ],
   "source": [
    "def extract_calibration_value(line):\n",
    "    number_map = {\n",
    "        'one': '1', 'two': '2', 'three': '3', 'four': '4', 'five': '5',\n",
    "        'six': '6', 'seven': '7', 'eight': '8', 'nine': '9'\n",
    "    }\n",
    "    \n",
    "    digits = []\n",
    "    for i in range(len(line)):\n",
    "        if line[i].isdigit():\n",
    "            digits.append(line[i])\n",
    "        else:\n",
    "            for word, digit in number_map.items():\n",
    "                if line[i:].startswith(word):\n",
    "                    digits.append(digit)\n",
    "                    break\n",
    "    \n",
    "    if not digits:\n",
    "        return 0\n",
    "    return int(digits[0] + digits[-1])\n",
    "\n",
    "total_sum = 0\n",
    "\n",
    "with open(r\"C:\\Users\\Rishabh\\Documents\\Dataart.txt\", 'r') as file:\n",
    "    for line in file:\n",
    "        calibration_value = extract_calibration_value(line.strip())\n",
    "        total_sum += calibration_value\n",
    "\n",
    "print(f\"The sum of all calibration values is: {total_sum}\")"
   ]
  },
  {
   "cell_type": "markdown",
   "metadata": {},
   "source": [
    "# --- Part One ---"
   ]
  },
  {
   "cell_type": "code",
   "execution_count": 11,
   "metadata": {},
   "outputs": [
    {
     "data": {
      "text/plain": [
       "\"--- Day 2: Cube Conundrum ---\\nYou're launched high into the atmosphere! The apex of your trajectory just barely reaches the surface of a large island floating in the sky. You gently land in a fluffy pile of leaves. It's quite cold, but you don't see much snow. An Elf runs over to greet you.\\n\\nThe Elf explains that you've arrived at Snow Island and apologizes for the lack of snow. He'll be happy to explain the situation, but it's a bit of a walk, so you have some time. They don't get many visitors up here; would you like to play a game in the meantime?\\n\\nAs you walk, the Elf shows you a small bag and some cubes which are either red, green, or blue. Each time you play this game, he will hide a secret number of cubes of each color in the bag, and your goal is to figure out information about the number of cubes.\\n\\nTo get information, once a bag has been loaded with cubes, the Elf will reach into the bag, grab a handful of random cubes, show them to you, and then put them back in the bag. He'll do this a few times per game.\\n\\nYou play several games and record the information from each game (your puzzle input). Each game is listed with its ID number (like the 11 in Game 11: ...) followed by a semicolon-separated list of subsets of cubes that were revealed from the bag (like 3 red, 5 green, 4 blue).\\n\\nFor example, the record of a few games might look like this:\\n\\nGame 1: 3 blue, 4 red; 1 red, 2 green, 6 blue; 2 green\\nGame 2: 1 blue, 2 green; 3 green, 4 blue, 1 red; 1 green, 1 blue\\nGame 3: 8 green, 6 blue, 20 red; 5 blue, 4 red, 13 green; 5 green, 1 red\\nGame 4: 1 green, 3 red, 6 blue; 3 green, 6 red; 3 green, 15 blue, 14 red\\nGame 5: 6 red, 1 blue, 3 green; 2 blue, 1 red, 2 green\\nIn game 1, three sets of cubes are revealed from the bag (and then put back again). The first set is 3 blue cubes and 4 red cubes; the second set is 1 red cube, 2 green cubes, and 6 blue cubes; the third set is only 2 green cubes.\\n\\nThe Elf would first like to know which games would have been possible if the bag contained only 12 red cubes, 13 green cubes, and 14 blue cubes?\\n\\nIn the example above, games 1, 2, and 5 would have been possible if the bag had been loaded with that configuration. However, game 3 would have been impossible because at one point the Elf showed you 20 red cubes at once; similarly, game 4 would also have been impossible because the Elf showed you 15 blue cubes at once. If you add up the IDs of the games that would have been possible, you get 8.\\n\\nDetermine which games would have been possible if the bag had been loaded with only 12 red cubes, 13 green cubes, and 14 blue cubes. What is the sum of the IDs of those games?\\n\\nYour puzzle answer was 2348.\\n\\nThe first half of this puzzle is complete! It provides one gold star: *\""
      ]
     },
     "execution_count": 11,
     "metadata": {},
     "output_type": "execute_result"
    }
   ],
   "source": [
    "'''--- Day 2: Cube Conundrum ---\n",
    "You're launched high into the atmosphere! The apex of your trajectory just barely reaches the surface of a large island floating in the sky. You gently land in a fluffy pile of leaves. It's quite cold, but you don't see much snow. An Elf runs over to greet you.\n",
    "\n",
    "The Elf explains that you've arrived at Snow Island and apologizes for the lack of snow. He'll be happy to explain the situation, but it's a bit of a walk, so you have some time. They don't get many visitors up here; would you like to play a game in the meantime?\n",
    "\n",
    "As you walk, the Elf shows you a small bag and some cubes which are either red, green, or blue. Each time you play this game, he will hide a secret number of cubes of each color in the bag, and your goal is to figure out information about the number of cubes.\n",
    "\n",
    "To get information, once a bag has been loaded with cubes, the Elf will reach into the bag, grab a handful of random cubes, show them to you, and then put them back in the bag. He'll do this a few times per game.\n",
    "\n",
    "You play several games and record the information from each game (your puzzle input). Each game is listed with its ID number (like the 11 in Game 11: ...) followed by a semicolon-separated list of subsets of cubes that were revealed from the bag (like 3 red, 5 green, 4 blue).\n",
    "\n",
    "For example, the record of a few games might look like this:\n",
    "\n",
    "Game 1: 3 blue, 4 red; 1 red, 2 green, 6 blue; 2 green\n",
    "Game 2: 1 blue, 2 green; 3 green, 4 blue, 1 red; 1 green, 1 blue\n",
    "Game 3: 8 green, 6 blue, 20 red; 5 blue, 4 red, 13 green; 5 green, 1 red\n",
    "Game 4: 1 green, 3 red, 6 blue; 3 green, 6 red; 3 green, 15 blue, 14 red\n",
    "Game 5: 6 red, 1 blue, 3 green; 2 blue, 1 red, 2 green\n",
    "In game 1, three sets of cubes are revealed from the bag (and then put back again). The first set is 3 blue cubes and 4 red cubes; the second set is 1 red cube, 2 green cubes, and 6 blue cubes; the third set is only 2 green cubes.\n",
    "\n",
    "The Elf would first like to know which games would have been possible if the bag contained only 12 red cubes, 13 green cubes, and 14 blue cubes?\n",
    "\n",
    "In the example above, games 1, 2, and 5 would have been possible if the bag had been loaded with that configuration. However, game 3 would have been impossible because at one point the Elf showed you 20 red cubes at once; similarly, game 4 would also have been impossible because the Elf showed you 15 blue cubes at once. If you add up the IDs of the games that would have been possible, you get 8.\n",
    "\n",
    "Determine which games would have been possible if the bag had been loaded with only 12 red cubes, 13 green cubes, and 14 blue cubes. What is the sum of the IDs of those games?\n",
    "\n",
    "Your puzzle answer was 2348.\n",
    "\n",
    "The first half of this puzzle is complete! It provides one gold star: *'''"
   ]
  },
  {
   "cell_type": "code",
   "execution_count": 10,
   "metadata": {},
   "outputs": [
    {
     "name": "stdout",
     "output_type": "stream",
     "text": [
      "2348\n"
     ]
    }
   ],
   "source": [
    "def read_input(file_path):\n",
    "    with open(file_path, 'r') as f:\n",
    "        games = f.readlines()\n",
    "    return games\n",
    "\n",
    "def parse_game(game_line):\n",
    "    # Split the line into game ID and subsets of cubes\n",
    "    game_id_part, cubes_part = game_line.strip().split(\": \")\n",
    "    game_id = int(game_id_part.split(\" \")[1])\n",
    "    \n",
    "    # Split each subset (e.g., '3 red, 5 green, 4 blue') by ';' and then by colors\n",
    "    subsets = cubes_part.split(\"; \")\n",
    "    parsed_subsets = []\n",
    "    for subset in subsets:\n",
    "        cube_counts = {\"red\": 0, \"green\": 0, \"blue\": 0}\n",
    "        cubes = subset.split(\", \")\n",
    "        for cube in cubes:\n",
    "            count, color = cube.split(\" \")\n",
    "            cube_counts[color] = int(count)\n",
    "        parsed_subsets.append(cube_counts)\n",
    "    \n",
    "    return game_id, parsed_subsets\n",
    "\n",
    "def is_game_possible(subsets, max_red, max_green, max_blue):\n",
    "    # Check each subset to ensure it doesn't exceed the allowed cube counts\n",
    "    for subset in subsets:\n",
    "        if subset[\"red\"] > max_red or subset[\"green\"] > max_green or subset[\"blue\"] > max_blue:\n",
    "            return False\n",
    "    return True\n",
    "\n",
    "def calculate_possible_games_sum(file_path):\n",
    "    games = read_input(file_path)\n",
    "    \n",
    "    max_red, max_green, max_blue = 12, 13, 14\n",
    "    valid_game_ids_sum = 0\n",
    "    \n",
    "    for game_line in games:\n",
    "        game_id, subsets = parse_game(game_line)\n",
    "        if is_game_possible(subsets, max_red, max_green, max_blue):\n",
    "            valid_game_ids_sum += game_id\n",
    "    \n",
    "    return valid_game_ids_sum\n",
    "\n",
    "# Example usage:\n",
    "file_path = r\"C:\\Users\\Rishabh\\Documents\\Dataart2.txt\"  # Replace with the path to your input file\n",
    "print(calculate_possible_games_sum(file_path))\n"
   ]
  },
  {
   "cell_type": "markdown",
   "metadata": {},
   "source": [
    "# --- Part Two ---"
   ]
  },
  {
   "cell_type": "code",
   "execution_count": 13,
   "metadata": {},
   "outputs": [
    {
     "data": {
      "text/plain": [
       "\"--- Part Two ---\\nThe Elf says they've stopped producing snow because they aren't getting any water! He isn't sure why the water stopped; however, he can show you how to get to the water source to check it out for yourself. It's just up ahead!\\n\\nAs you continue your walk, the Elf poses a second question: in each game you played, what is the fewest number of cubes of each color that could have been in the bag to make the game possible?\\n\\nAgain consider the example games from earlier:\\n\\nGame 1: 3 blue, 4 red; 1 red, 2 green, 6 blue; 2 green\\nGame 2: 1 blue, 2 green; 3 green, 4 blue, 1 red; 1 green, 1 blue\\nGame 3: 8 green, 6 blue, 20 red; 5 blue, 4 red, 13 green; 5 green, 1 red\\nGame 4: 1 green, 3 red, 6 blue; 3 green, 6 red; 3 green, 15 blue, 14 red\\nGame 5: 6 red, 1 blue, 3 green; 2 blue, 1 red, 2 green\\nIn game 1, the game could have been played with as few as 4 red, 2 green, and 6 blue cubes. If any color had even one fewer cube, the game would have been impossible.\\nGame 2 could have been played with a minimum of 1 red, 3 green, and 4 blue cubes.\\nGame 3 must have been played with at least 20 red, 13 green, and 6 blue cubes.\\nGame 4 required at least 14 red, 3 green, and 15 blue cubes.\\nGame 5 needed no fewer than 6 red, 3 green, and 2 blue cubes in the bag.\\nThe power of a set of cubes is equal to the numbers of red, green, and blue cubes multiplied together. The power of the minimum set of cubes in game 1 is 48. In games 2-5 it was 12, 1560, 630, and 36, respectively. Adding up these five powers produces the sum 2286.\\n\\nFor each game, find the minimum set of cubes that must have been present. What is the sum of the power of these sets?\\n\\nYour puzzle answer was 76008.\\n\\nBoth parts of this puzzle are complete! They provide two gold stars: **\\n\\nAt this point, you should return to your Advent calendar and try another puzzle.\""
      ]
     },
     "execution_count": 13,
     "metadata": {},
     "output_type": "execute_result"
    }
   ],
   "source": [
    "'''\n",
    "The Elf says they've stopped producing snow because they aren't getting any water! He isn't sure why the water stopped; however, he can show you how to get to the water source to check it out for yourself. It's just up ahead!\n",
    "\n",
    "As you continue your walk, the Elf poses a second question: in each game you played, what is the fewest number of cubes of each color that could have been in the bag to make the game possible?\n",
    "\n",
    "Again consider the example games from earlier:\n",
    "\n",
    "Game 1: 3 blue, 4 red; 1 red, 2 green, 6 blue; 2 green\n",
    "Game 2: 1 blue, 2 green; 3 green, 4 blue, 1 red; 1 green, 1 blue\n",
    "Game 3: 8 green, 6 blue, 20 red; 5 blue, 4 red, 13 green; 5 green, 1 red\n",
    "Game 4: 1 green, 3 red, 6 blue; 3 green, 6 red; 3 green, 15 blue, 14 red\n",
    "Game 5: 6 red, 1 blue, 3 green; 2 blue, 1 red, 2 green\n",
    "In game 1, the game could have been played with as few as 4 red, 2 green, and 6 blue cubes. If any color had even one fewer cube, the game would have been impossible.\n",
    "Game 2 could have been played with a minimum of 1 red, 3 green, and 4 blue cubes.\n",
    "Game 3 must have been played with at least 20 red, 13 green, and 6 blue cubes.\n",
    "Game 4 required at least 14 red, 3 green, and 15 blue cubes.\n",
    "Game 5 needed no fewer than 6 red, 3 green, and 2 blue cubes in the bag.\n",
    "The power of a set of cubes is equal to the numbers of red, green, and blue cubes multiplied together. The power of the minimum set of cubes in game 1 is 48. In games 2-5 it was 12, 1560, 630, and 36, respectively. Adding up these five powers produces the sum 2286.\n",
    "\n",
    "For each game, find the minimum set of cubes that must have been present. What is the sum of the power of these sets?\n",
    "\n",
    "Your puzzle answer was 76008.\n",
    "\n",
    "Both parts of this puzzle are complete! They provide two gold stars: **\n",
    "\n",
    "At this point, you should return to your Advent calendar and try another puzzle.'''"
   ]
  },
  {
   "cell_type": "markdown",
   "metadata": {},
   "source": [
    "# Part 1"
   ]
  },
  {
   "cell_type": "code",
   "execution_count": 34,
   "metadata": {},
   "outputs": [
    {
     "data": {
      "text/plain": [
       "'--- Day 6: Wait For It ---\\nThe ferry quickly brings you across Island Island. After asking around, you discover that there is indeed normally a large pile of sand somewhere near here, but you don\\'t see anything besides lots of water and the small island where the ferry has docked.\\n\\nAs you try to figure out what to do next, you notice a poster on a wall near the ferry dock. \"Boat races! Open to the public! Grand prize is an all-expenses-paid trip to Desert Island!\" That must be where the sand comes from! Best of all, the boat races are starting in just a few minutes.\\n\\nYou manage to sign up as a competitor in the boat races just in time. The organizer explains that it\\'s not really a traditional race - instead, you will get a fixed amount of time during which your boat has to travel as far as it can, and you win if your boat goes the farthest.\\n\\nAs part of signing up, you get a sheet of paper (your puzzle input) that lists the time allowed for each race and also the best distance ever recorded in that race. To guarantee you win the grand prize, you need to make sure you go farther in each race than the current record holder.\\n\\nThe organizer brings you over to the area where the boat races are held. The boats are much smaller than you expected - they\\'re actually toy boats, each with a big button on top. Holding down the button charges the boat, and releasing the button allows the boat to move. Boats move faster if their button was held longer, but time spent holding the button counts against the total race time. You can only hold the button at the start of the race, and boats don\\'t move until the button is released.\\n\\nFor example:\\n\\nTime:      7  15   30\\nDistance:  9  40  200\\nThis document describes three races:\\n\\nThe first race lasts 7 milliseconds. The record distance in this race is 9 millimeters.\\nThe second race lasts 15 milliseconds. The record distance in this race is 40 millimeters.\\nThe third race lasts 30 milliseconds. The record distance in this race is 200 millimeters.\\nYour toy boat has a starting speed of zero millimeters per millisecond. For each whole millisecond you spend at the beginning of the race holding down the button, the boat\\'s speed increases by one millimeter per millisecond.\\n\\nSo, because the first race lasts 7 milliseconds, you only have a few options:\\n\\nDon\\'t hold the button at all (that is, hold it for 0 milliseconds) at the start of the race. The boat won\\'t move; it will have traveled 0 millimeters by the end of the race.\\nHold the button for 1 millisecond at the start of the race. Then, the boat will travel at a speed of 1 millimeter per millisecond for 6 milliseconds, reaching a total distance traveled of 6 millimeters.\\nHold the button for 2 milliseconds, giving the boat a speed of 2 millimeters per millisecond. It will then get 5 milliseconds to move, reaching a total distance of 10 millimeters.\\nHold the button for 3 milliseconds. After its remaining 4 milliseconds of travel time, the boat will have gone 12 millimeters.\\nHold the button for 4 milliseconds. After its remaining 3 milliseconds of travel time, the boat will have gone 12 millimeters.\\nHold the button for 5 milliseconds, causing the boat to travel a total of 10 millimeters.\\nHold the button for 6 milliseconds, causing the boat to travel a total of 6 millimeters.\\nHold the button for 7 milliseconds. That\\'s the entire duration of the race. You never let go of the button. The boat can\\'t move until you let go of the button. Please make sure you let go of the button so the boat gets to move. 0 millimeters.\\nSince the current record for this race is 9 millimeters, there are actually 4 different ways you could win: you could hold the button for 2, 3, 4, or 5 milliseconds at the start of the race.\\n\\nIn the second race, you could hold the button for at least 4 milliseconds and at most 11 milliseconds and beat the record, a total of 8 different ways to win.\\n\\nIn the third race, you could hold the button for at least 11 milliseconds and no more than 19 milliseconds and still beat the record, a total of 9 ways you could win.\\n\\nTo see how much margin of error you have, determine the number of ways you can beat the record in each race; in this example, if you multiply these values together, you get 288 (4 * 8 * 9).\\n\\nDetermine the number of ways you could beat the record in each race. What do you get if you multiply these numbers together?\\n\\nYour puzzle answer was 220320.'"
      ]
     },
     "execution_count": 34,
     "metadata": {},
     "output_type": "execute_result"
    }
   ],
   "source": [
    "'''--- Day 6: Wait For It ---\n",
    "The ferry quickly brings you across Island Island. After asking around, you discover that there is indeed normally a large pile of sand somewhere near here, but you don't see anything besides lots of water and the small island where the ferry has docked.\n",
    "\n",
    "As you try to figure out what to do next, you notice a poster on a wall near the ferry dock. \"Boat races! Open to the public! Grand prize is an all-expenses-paid trip to Desert Island!\" That must be where the sand comes from! Best of all, the boat races are starting in just a few minutes.\n",
    "\n",
    "You manage to sign up as a competitor in the boat races just in time. The organizer explains that it's not really a traditional race - instead, you will get a fixed amount of time during which your boat has to travel as far as it can, and you win if your boat goes the farthest.\n",
    "\n",
    "As part of signing up, you get a sheet of paper (your puzzle input) that lists the time allowed for each race and also the best distance ever recorded in that race. To guarantee you win the grand prize, you need to make sure you go farther in each race than the current record holder.\n",
    "\n",
    "The organizer brings you over to the area where the boat races are held. The boats are much smaller than you expected - they're actually toy boats, each with a big button on top. Holding down the button charges the boat, and releasing the button allows the boat to move. Boats move faster if their button was held longer, but time spent holding the button counts against the total race time. You can only hold the button at the start of the race, and boats don't move until the button is released.\n",
    "\n",
    "For example:\n",
    "\n",
    "Time:      7  15   30\n",
    "Distance:  9  40  200\n",
    "This document describes three races:\n",
    "\n",
    "The first race lasts 7 milliseconds. The record distance in this race is 9 millimeters.\n",
    "The second race lasts 15 milliseconds. The record distance in this race is 40 millimeters.\n",
    "The third race lasts 30 milliseconds. The record distance in this race is 200 millimeters.\n",
    "Your toy boat has a starting speed of zero millimeters per millisecond. For each whole millisecond you spend at the beginning of the race holding down the button, the boat's speed increases by one millimeter per millisecond.\n",
    "\n",
    "So, because the first race lasts 7 milliseconds, you only have a few options:\n",
    "\n",
    "Don't hold the button at all (that is, hold it for 0 milliseconds) at the start of the race. The boat won't move; it will have traveled 0 millimeters by the end of the race.\n",
    "Hold the button for 1 millisecond at the start of the race. Then, the boat will travel at a speed of 1 millimeter per millisecond for 6 milliseconds, reaching a total distance traveled of 6 millimeters.\n",
    "Hold the button for 2 milliseconds, giving the boat a speed of 2 millimeters per millisecond. It will then get 5 milliseconds to move, reaching a total distance of 10 millimeters.\n",
    "Hold the button for 3 milliseconds. After its remaining 4 milliseconds of travel time, the boat will have gone 12 millimeters.\n",
    "Hold the button for 4 milliseconds. After its remaining 3 milliseconds of travel time, the boat will have gone 12 millimeters.\n",
    "Hold the button for 5 milliseconds, causing the boat to travel a total of 10 millimeters.\n",
    "Hold the button for 6 milliseconds, causing the boat to travel a total of 6 millimeters.\n",
    "Hold the button for 7 milliseconds. That's the entire duration of the race. You never let go of the button. The boat can't move until you let go of the button. Please make sure you let go of the button so the boat gets to move. 0 millimeters.\n",
    "Since the current record for this race is 9 millimeters, there are actually 4 different ways you could win: you could hold the button for 2, 3, 4, or 5 milliseconds at the start of the race.\n",
    "\n",
    "In the second race, you could hold the button for at least 4 milliseconds and at most 11 milliseconds and beat the record, a total of 8 different ways to win.\n",
    "\n",
    "In the third race, you could hold the button for at least 11 milliseconds and no more than 19 milliseconds and still beat the record, a total of 9 ways you could win.\n",
    "\n",
    "To see how much margin of error you have, determine the number of ways you can beat the record in each race; in this example, if you multiply these values together, you get 288 (4 * 8 * 9).\n",
    "\n",
    "Determine the number of ways you could beat the record in each race. What do you get if you multiply these numbers together?\n",
    "\n",
    "Your puzzle answer was 220320.'''"
   ]
  },
  {
   "cell_type": "code",
   "execution_count": 28,
   "metadata": {},
   "outputs": [
    {
     "name": "stdout",
     "output_type": "stream",
     "text": [
      "Total ways to beat the records: 220320\n"
     ]
    }
   ],
   "source": [
    "def calculate_ways_to_beat_records(times, distances):\n",
    "    total_ways = 1  # Initialize the total ways as 1 for multiplication\n",
    "\n",
    "    for race_time, record_distance in zip(times, distances):\n",
    "        ways = 0  # Count ways to beat the record for the current race\n",
    "\n",
    "        # Iterate over possible button hold times\n",
    "        for hold_time in range(race_time + 1):\n",
    "            speed = hold_time  # Speed after holding the button\n",
    "            time_moving = race_time - hold_time  # Remaining time to move\n",
    "            \n",
    "            # Calculate distance traveled\n",
    "            distance_traveled = speed * time_moving\n",
    "            \n",
    "            # Check if it beats the record\n",
    "            if distance_traveled > record_distance:\n",
    "                ways += 1\n",
    "\n",
    "        total_ways *= ways  # Multiply ways for each race\n",
    "\n",
    "    return total_ways\n",
    "\n",
    "# Input data\n",
    "times = [59, 79, 65, 75]\n",
    "distances = [597, 1234, 1032, 1328]\n",
    "\n",
    "# Calculate the total number of ways to beat the records\n",
    "result = calculate_ways_to_beat_records(times, distances)\n",
    "print(f\"Total ways to beat the records: {result}\")\n"
   ]
  },
  {
   "cell_type": "markdown",
   "metadata": {},
   "source": [
    "# --- Part Two ---"
   ]
  },
  {
   "cell_type": "code",
   "execution_count": 35,
   "metadata": {},
   "outputs": [
    {
     "data": {
      "text/plain": [
       "\"--- Part Two ---\\nAs the race is about to start, you realize the piece of paper with race times and record distances you got earlier actually just has very bad kerning. There's really only one race - ignore the spaces between the numbers on each line.\\n\\nSo, the example from before:\\n\\nTime:      7  15   30\\nDistance:  9  40  200\\n...now instead means this:\\n\\nTime:      71530\\nDistance:  940200\\nNow, you have to figure out how many ways there are to win this single race. In this example, the race lasts for 71530 milliseconds and the record distance you need to beat is 940200 millimeters. You could hold the button anywhere from 14 to 71516 milliseconds and beat the record, a total of 71503 ways!\\n\\nHow many ways can you beat the record in this one much longer race?\\n\\nYour puzzle answer was 34454850.\\n\\nBoth parts of this puzzle are complete! They provide two gold stars: **\""
      ]
     },
     "execution_count": 35,
     "metadata": {},
     "output_type": "execute_result"
    }
   ],
   "source": [
    "'''--- Part Two ---\n",
    "As the race is about to start, you realize the piece of paper with race times and record distances you got earlier actually just has very bad kerning. There's really only one race - ignore the spaces between the numbers on each line.\n",
    "\n",
    "So, the example from before:\n",
    "\n",
    "Time:      7  15   30\n",
    "Distance:  9  40  200\n",
    "...now instead means this:\n",
    "\n",
    "Time:      71530\n",
    "Distance:  940200\n",
    "Now, you have to figure out how many ways there are to win this single race. In this example, the race lasts for 71530 milliseconds and the record distance you need to beat is 940200 millimeters. You could hold the button anywhere from 14 to 71516 milliseconds and beat the record, a total of 71503 ways!\n",
    "\n",
    "How many ways can you beat the record in this one much longer race?\n",
    "\n",
    "Your puzzle answer was 34454850.\n",
    "\n",
    "Both parts of this puzzle are complete! They provide two gold stars: **'''"
   ]
  },
  {
   "cell_type": "code",
   "execution_count": 33,
   "metadata": {},
   "outputs": [
    {
     "name": "stdout",
     "output_type": "stream",
     "text": [
      "Total ways to beat the record: 34454850\n"
     ]
    }
   ],
   "source": [
    "def calculate_ways_to_beat_record(race_time, record_distance):\n",
    "    ways = 0  # Count ways to beat the record\n",
    "\n",
    "    # Iterate over possible button hold times\n",
    "    for hold_time in range(race_time + 1):\n",
    "        speed = hold_time  # Speed after holding the button\n",
    "        time_moving = race_time - hold_time  # Remaining time to move\n",
    "        \n",
    "        # Calculate distance traveled\n",
    "        distance_traveled = speed * time_moving\n",
    "        \n",
    "        # Check if it beats the record\n",
    "        if distance_traveled > record_distance:\n",
    "            ways += 1\n",
    "\n",
    "    return ways\n",
    "\n",
    "# Input data\n",
    "race_time = 59796575\n",
    "record_distance = 597123410321328\n",
    "\n",
    "# Calculate the number of ways to beat the record\n",
    "result = calculate_ways_to_beat_record(race_time, record_distance)\n",
    "print(f\"Total ways to beat the record: {result}\")\n"
   ]
  },
  {
   "cell_type": "markdown",
   "metadata": {},
   "source": [
    "# Task 2: Generate text:"
   ]
  },
  {
   "cell_type": "code",
   "execution_count": 37,
   "metadata": {},
   "outputs": [],
   "source": [
    "#Write down your main 5-7 takeaways from this course, ask Chat GPT to generate one pager instructions for two different roles (2 of BA, QA, PM) ,\n",
    "#from this takeaway points"
   ]
  },
  {
   "cell_type": "code",
   "execution_count": 43,
   "metadata": {},
   "outputs": [],
   "source": [
    "promt = '''Generate one-pager instructions for three distinct roles: Business Analyst (BA), Quality Assurance (QA), and Project Manager (PM), based on the following takeaway points from a presentation on RAG (Retrieval-Augmented Generation) in AI:\n",
    "\n",
    "Importance of RAG: Explain why Retrieval-Augmented Generation is essential for enhancing the performance and accuracy of LLM (Large Language Model) applications.\n",
    "\n",
    "Challenges in Naive RAG: Discuss common challenges associated with implementing a naive RAG approach, such as issues with data retrieval, context awareness, and maintaining coherence in generated outputs.\n",
    "\n",
    "Testing LLM Applications: Outline strategies for effectively testing LLM applications, including unit testing, integration testing, and user acceptance testing, focusing on the specific nuances of LLM behavior.\n",
    "\n",
    "Evaluation Metrics: Describe the key evaluation metrics and frameworks used in RAG applications, such as accuracy, precision, recall, and F1 score, along with qualitative assessments like user feedback and satisfaction.\n",
    "\n",
    "'''"
   ]
  },
  {
   "cell_type": "code",
   "execution_count": 44,
   "metadata": {},
   "outputs": [
    {
     "name": "stdout",
     "output_type": "stream",
     "text": [
      "Generate one-pager instructions for three distinct roles: Business Analyst (BA), Quality Assurance (QA), and Project Manager (PM), based on the following takeaway points from a presentation on RAG (Retrieval-Augmented Generation) in AI:\n",
      "\n",
      "Importance of RAG: Explain why Retrieval-Augmented Generation is essential for enhancing the performance and accuracy of LLM (Large Language Model) applications.\n",
      "\n",
      "Challenges in Naive RAG: Discuss common challenges associated with implementing a naive RAG approach, such as issues with data retrieval, context awareness, and maintaining coherence in generated outputs.\n",
      "\n",
      "Testing LLM Applications: Outline strategies for effectively testing LLM applications, including unit testing, integration testing, and user acceptance testing, focusing on the specific nuances of LLM behavior.\n",
      "\n",
      "Evaluation Metrics: Describe the key evaluation metrics and frameworks used in RAG applications, such as accuracy, precision, recall, and F1 score, along with qualitative assessments like user feedback and satisfaction.\n",
      "\n",
      "\n"
     ]
    }
   ],
   "source": [
    "print(promt)"
   ]
  },
  {
   "cell_type": "code",
   "execution_count": 58,
   "metadata": {},
   "outputs": [
    {
     "name": "stdout",
     "output_type": "stream",
     "text": [
      "One-Pager: AI Bootcamp Takeaways Instructions\n",
      "1. Business Analyst (BA)\n",
      "Objective: Understand the need for Retrieval-Augmented Generation (RAG) and its impact on business applications.\n",
      "\n",
      "Why We Need RAG:\n",
      "\n",
      "Enhances the performance of language models by providing relevant context from external sources.\n",
      "Enables better accuracy and relevancy in responses, crucial for business decision-making.\n",
      "Key Responsibilities:\n",
      "\n",
      "Requirements Gathering: Collect and document requirements for RAG implementations, focusing on business needs and user expectations.\n",
      "Stakeholder Engagement: Communicate the benefits of RAG to stakeholders, showcasing how it improves data retrieval and processing.\n",
      "Process Mapping: Identify and map current processes that could be optimized with RAG to highlight areas for improvement.\n",
      "Action Items:\n",
      "\n",
      "Conduct workshops to educate stakeholders about RAG.\n",
      "Analyze existing systems and processes to identify integration opportunities for RAG solutions.\n",
      "Prepare a presentation on the potential business impact of RAG for executive review.\n",
      "2. Quality Assurance (QA) Engineer\n",
      "Objective: Ensure the quality and reliability of LLM applications using RAG methodologies.\n",
      "\n",
      "Challenges in Naive RAG:\n",
      "\n",
      "Risks of generating irrelevant or incorrect outputs due to poor integration with data sources.\n",
      "Inconsistent quality of retrieved information impacting the overall model performance.\n",
      "Key Responsibilities:\n",
      "\n",
      "Test Planning: Design comprehensive test cases to validate the functionality of RAG applications, focusing on data retrieval and response generation.\n",
      "Performance Testing: Assess the performance of LLM applications under different scenarios to identify bottlenecks or failures in RAG.\n",
      "User Acceptance Testing (UAT): Collaborate with end-users to test RAG applications and gather feedback for improvements.\n",
      "Action Items:\n",
      "\n",
      "Create a testing framework to evaluate RAG applications, emphasizing integration and output accuracy.\n",
      "Develop automated tests for regression and performance checks on the LLM applications.\n",
      "Document and report any issues found during testing and propose solutions.\n",
      "3. Project Manager (PM)\n",
      "Objective: Oversee the implementation of RAG projects and ensure alignment with business objectives.\n",
      "\n",
      "Framework Used in RAG Applications:\n",
      "\n",
      "Incorporates continuous feedback loops from users to refine data retrieval processes.\n",
      "Focuses on an iterative development approach to enhance the integration of external data sources.\n",
      "Key Responsibilities:\n",
      "\n",
      "Project Planning: Define project scope, timelines, and deliverables for RAG implementations.\n",
      "Team Coordination: Facilitate communication between stakeholders, BAs, and QA teams to ensure project alignment and mitigate risks.\n",
      "Monitoring and Evaluation: Track project progress and adjust plans based on performance metrics and feedback from testing phases.\n",
      "Action Items:\n",
      "\n",
      "Establish a project timeline that includes key milestones for RAG development.\n",
      "Implement regular check-ins with team members to discuss progress and challenges faced during implementation.\n",
      "Develop a reporting mechanism to evaluate project outcomes against predefined metrics.\n",
      "Conclusion\n",
      "Understanding RAG, testing methodologies, and project management frameworks is crucial for successful AI implementation. Each role plays a pivotal part in ensuring that RAG applications meet business needs, maintain high-quality standards, and achieve project goals.\n"
     ]
    }
   ],
   "source": [
    "Instructions = '''One-Pager: AI Bootcamp Takeaways Instructions\n",
    "1. Business Analyst (BA)\n",
    "Objective: Understand the need for Retrieval-Augmented Generation (RAG) and its impact on business applications.\n",
    "\n",
    "Why We Need RAG:\n",
    "\n",
    "Enhances the performance of language models by providing relevant context from external sources.\n",
    "Enables better accuracy and relevancy in responses, crucial for business decision-making.\n",
    "Key Responsibilities:\n",
    "\n",
    "Requirements Gathering: Collect and document requirements for RAG implementations, focusing on business needs and user expectations.\n",
    "Stakeholder Engagement: Communicate the benefits of RAG to stakeholders, showcasing how it improves data retrieval and processing.\n",
    "Process Mapping: Identify and map current processes that could be optimized with RAG to highlight areas for improvement.\n",
    "Action Items:\n",
    "\n",
    "Conduct workshops to educate stakeholders about RAG.\n",
    "Analyze existing systems and processes to identify integration opportunities for RAG solutions.\n",
    "Prepare a presentation on the potential business impact of RAG for executive review.\n",
    "2. Quality Assurance (QA) Engineer\n",
    "Objective: Ensure the quality and reliability of LLM applications using RAG methodologies.\n",
    "\n",
    "Challenges in Naive RAG:\n",
    "\n",
    "Risks of generating irrelevant or incorrect outputs due to poor integration with data sources.\n",
    "Inconsistent quality of retrieved information impacting the overall model performance.\n",
    "Key Responsibilities:\n",
    "\n",
    "Test Planning: Design comprehensive test cases to validate the functionality of RAG applications, focusing on data retrieval and response generation.\n",
    "Performance Testing: Assess the performance of LLM applications under different scenarios to identify bottlenecks or failures in RAG.\n",
    "User Acceptance Testing (UAT): Collaborate with end-users to test RAG applications and gather feedback for improvements.\n",
    "Action Items:\n",
    "\n",
    "Create a testing framework to evaluate RAG applications, emphasizing integration and output accuracy.\n",
    "Develop automated tests for regression and performance checks on the LLM applications.\n",
    "Document and report any issues found during testing and propose solutions.\n",
    "3. Project Manager (PM)\n",
    "Objective: Oversee the implementation of RAG projects and ensure alignment with business objectives.\n",
    "\n",
    "Framework Used in RAG Applications:\n",
    "\n",
    "Incorporates continuous feedback loops from users to refine data retrieval processes.\n",
    "Focuses on an iterative development approach to enhance the integration of external data sources.\n",
    "Key Responsibilities:\n",
    "\n",
    "Project Planning: Define project scope, timelines, and deliverables for RAG implementations.\n",
    "Team Coordination: Facilitate communication between stakeholders, BAs, and QA teams to ensure project alignment and mitigate risks.\n",
    "Monitoring and Evaluation: Track project progress and adjust plans based on performance metrics and feedback from testing phases.\n",
    "Action Items:\n",
    "\n",
    "Establish a project timeline that includes key milestones for RAG development.\n",
    "Implement regular check-ins with team members to discuss progress and challenges faced during implementation.\n",
    "Develop a reporting mechanism to evaluate project outcomes against predefined metrics.\n",
    "Conclusion\n",
    "Understanding RAG, testing methodologies, and project management frameworks is crucial for successful AI implementation. Each role plays a pivotal part in ensuring that RAG applications meet business needs, maintain high-quality standards, and achieve project goals.'''\n",
    "print(Instructions)"
   ]
  },
  {
   "cell_type": "code",
   "execution_count": null,
   "metadata": {},
   "outputs": [],
   "source": [
    "# Provide ChatGPT sample text paragraph with your own style (informal/formal/etc).\n",
    "# Tune prompt and sample \"you style paragraph to achieve cleaner, smarter text\""
   ]
  },
  {
   "cell_type": "code",
   "execution_count": 45,
   "metadata": {},
   "outputs": [],
   "source": [
    "prompt = '''\"Please refine the following text to improve its clarity and sophistication. Ensure the language is concise, engaging, and free of jargon, while maintaining the original meaning. Provide suggestions for enhancing readability and coherence.\"'''"
   ]
  },
  {
   "cell_type": "code",
   "execution_count": 57,
   "metadata": {},
   "outputs": [
    {
     "name": "stdout",
     "output_type": "stream",
     "text": [
      "Machine learning (ML) is a field of study in artificial intelligence concerned with the development and study of statistical algorithms that can learn from data and generalize to unseen data, and thus perform tasks without explicit instructions.[1] Quick progress in the field of deep learning, beginning in 2010s, allowed neural networks to surpass many previous approaches in performance.[2]\n",
      "\n",
      "ML finds application in many fields, including natural language processing, computer vision, speech recognition, email filtering, agriculture, and medicine.[3][4] The application of ML to business problems is known as predictive analytics.\n",
      "\n",
      "Statistics and mathematical optimization (mathematical programming) methods comprise the foundations of machine learning. Data mining is a related field of study, focusing on exploratory data analysis (EDA) via unsupervised learning.[6][7]\n",
      "\n",
      "From a theoretical viewpoint, probably approximately correct (PAC) learning provides a framework for describing machine learning.\n",
      "\n",
      "History\n",
      "See also: Timeline of machine learning\n",
      "The term machine learning was coined in 1959 by Arthur Samuel, an IBM employee and pioneer in the field of computer gaming and artificial intelligence.[8][9] The synonym self-teaching computers was also used in this time period.[10][11]\n",
      "\n",
      "Although the earliest machine learning model was introduced in the 1950s when Arthur Samuel invented a program that calculated the winning chance in checkers for each side, the history of machine learning roots back to decades of human desire and effort to study human cognitive processes.[12] In 1949, Canadian psychologist Donald Hebb published the book The Organization of Behavior, in which he introduced a theoretical neural structure formed by certain interactions among nerve cells.[13] Hebb's model of neurons interacting with one another set a groundwork for how AIs and machine learning algorithms work under nodes, or artificial neurons used by computers to communicate data.[12] Other researchers who have studied human cognitive systems contributed to the modern machine learning technologies as well, including logician Walter Pitts and Warren McCulloch, who proposed the early mathematical models of neural networks to come up with algorithms that mirror human thought processes.[12]\n",
      "\n",
      "By the early 1960s, an experimental \"learning machine\" with punched tape memory, called Cybertron, had been developed by Raytheon Company to analyze sonar signals, electrocardiograms, and speech patterns using rudimentary reinforcement learning. It was repetitively \"trained\" by a human operator/teacher to recognize patterns and equipped with a \"goof\" button to cause it to reevaluate incorrect decisions.[14] A representative book on research into machine learning during the 1960s was Nilsson's book on Learning Machines, dealing mostly with machine learning for pattern classification.[15] Interest related to pattern recognition continued into the 1970s, as described by Duda and Hart in 1973.[16] In 1981 a report was given on using teaching strategies so that an artificial neural network learns to recognize 40 characters (26 letters, 10 digits, and 4 special symbols) from a computer terminal.[17]\n",
      "i need to achieve  to achieve cleaner, smarter text\n"
     ]
    }
   ],
   "source": [
    "unstructure_text = '''Machine learning (ML) is a field of study in artificial intelligence concerned with the development and study of statistical algorithms that can learn from data and generalize to unseen data, and thus perform tasks without explicit instructions.[1] Quick progress in the field of deep learning, beginning in 2010s, allowed neural networks to surpass many previous approaches in performance.[2]\n",
    "\n",
    "ML finds application in many fields, including natural language processing, computer vision, speech recognition, email filtering, agriculture, and medicine.[3][4] The application of ML to business problems is known as predictive analytics.\n",
    "\n",
    "Statistics and mathematical optimization (mathematical programming) methods comprise the foundations of machine learning. Data mining is a related field of study, focusing on exploratory data analysis (EDA) via unsupervised learning.[6][7]\n",
    "\n",
    "From a theoretical viewpoint, probably approximately correct (PAC) learning provides a framework for describing machine learning.\n",
    "\n",
    "History\n",
    "See also: Timeline of machine learning\n",
    "The term machine learning was coined in 1959 by Arthur Samuel, an IBM employee and pioneer in the field of computer gaming and artificial intelligence.[8][9] The synonym self-teaching computers was also used in this time period.[10][11]\n",
    "\n",
    "Although the earliest machine learning model was introduced in the 1950s when Arthur Samuel invented a program that calculated the winning chance in checkers for each side, the history of machine learning roots back to decades of human desire and effort to study human cognitive processes.[12] In 1949, Canadian psychologist Donald Hebb published the book The Organization of Behavior, in which he introduced a theoretical neural structure formed by certain interactions among nerve cells.[13] Hebb's model of neurons interacting with one another set a groundwork for how AIs and machine learning algorithms work under nodes, or artificial neurons used by computers to communicate data.[12] Other researchers who have studied human cognitive systems contributed to the modern machine learning technologies as well, including logician Walter Pitts and Warren McCulloch, who proposed the early mathematical models of neural networks to come up with algorithms that mirror human thought processes.[12]\n",
    "\n",
    "By the early 1960s, an experimental \"learning machine\" with punched tape memory, called Cybertron, had been developed by Raytheon Company to analyze sonar signals, electrocardiograms, and speech patterns using rudimentary reinforcement learning. It was repetitively \"trained\" by a human operator/teacher to recognize patterns and equipped with a \"goof\" button to cause it to reevaluate incorrect decisions.[14] A representative book on research into machine learning during the 1960s was Nilsson's book on Learning Machines, dealing mostly with machine learning for pattern classification.[15] Interest related to pattern recognition continued into the 1970s, as described by Duda and Hart in 1973.[16] In 1981 a report was given on using teaching strategies so that an artificial neural network learns to recognize 40 characters (26 letters, 10 digits, and 4 special symbols) from a computer terminal.[17]\n",
    "i need to achieve  to achieve cleaner, smarter text'''\n",
    "print(unstructure_text)"
   ]
  },
  {
   "cell_type": "code",
   "execution_count": 46,
   "metadata": {},
   "outputs": [
    {
     "name": "stdout",
     "output_type": "stream",
     "text": [
      "\"Please refine the following text to improve its clarity and sophistication. Ensure the language is concise, engaging, and free of jargon, while maintaining the original meaning. Provide suggestions for enhancing readability and coherence.\"\n"
     ]
    }
   ],
   "source": [
    "print(prompt)"
   ]
  },
  {
   "cell_type": "code",
   "execution_count": 56,
   "metadata": {},
   "outputs": [
    {
     "name": "stdout",
     "output_type": "stream",
     "text": [
      "Machine Learning Overview\n",
      "Definition:\n",
      "Machine Learning (ML) is a subset of artificial intelligence focused on developing algorithms that learn from data, enabling them to perform tasks without explicit instructions. The advancement of deep learning in the 2010s has significantly improved the performance of neural networks, surpassing many traditional methods.\n",
      "\n",
      "Applications:\n",
      "ML is applied across various fields, including:\n",
      "\n",
      "Natural Language Processing (NLP)\n",
      "Computer Vision\n",
      "Speech Recognition\n",
      "Email Filtering\n",
      "Agriculture\n",
      "Medicine\n",
      "When applied to business problems, this process is referred to as predictive analytics.\n",
      "\n",
      "Foundations:\n",
      "The foundations of ML include:\n",
      "\n",
      "Statistics\n",
      "Mathematical Optimization\n",
      "Data Mining, which focuses on exploratory data analysis through unsupervised learning.\n",
      "Theoretical Framework:\n",
      "From a theoretical perspective, Probably Approximately Correct (PAC) learning offers a framework to describe machine learning processes.\n",
      "\n",
      "Historical Context\n",
      "The term \"machine learning\" was coined by Arthur Samuel in 1959, a pioneer in computer gaming and AI. Samuel's early model involved a program that calculated the winning chances in checkers.\n",
      "\n",
      "The roots of ML trace back to decades of research into human cognitive processes:\n",
      "\n",
      "In 1949, Canadian psychologist Donald Hebb introduced a theoretical model of neural structures in his book The Organization of Behavior. This model laid the groundwork for artificial neural networks.\n",
      "Walter Pitts and Warren McCulloch contributed to the early mathematical models of neural networks, which aimed to mirror human thought processes.\n",
      "In the early 1960s, Raytheon Company developed an experimental \"learning machine\" named Cybertron. It used punched tape memory to analyze sonar signals and speech patterns, employing basic reinforcement learning techniques. It was trained by human operators and included a \"goof\" button for reevaluating incorrect decisions.\n",
      "\n",
      "Notable developments in ML continued throughout the 1960s and 1970s:\n",
      "\n",
      "Nilsson's book on learning machines focused on pattern classification.\n",
      "Research into pattern recognition persisted, as documented by Duda and Hart in 1973.\n",
      "In 1981, a report detailed an artificial neural network learning to recognize 40 characters, including letters, digits, and special symbols.\n",
      "\n"
     ]
    }
   ],
   "source": [
    "Result_of_unstructure_text = '''Machine Learning Overview\n",
    "Definition:\n",
    "Machine Learning (ML) is a subset of artificial intelligence focused on developing algorithms that learn from data, enabling them to perform tasks without explicit instructions. The advancement of deep learning in the 2010s has significantly improved the performance of neural networks, surpassing many traditional methods.\n",
    "\n",
    "Applications:\n",
    "ML is applied across various fields, including:\n",
    "\n",
    "Natural Language Processing (NLP)\n",
    "Computer Vision\n",
    "Speech Recognition\n",
    "Email Filtering\n",
    "Agriculture\n",
    "Medicine\n",
    "When applied to business problems, this process is referred to as predictive analytics.\n",
    "\n",
    "Foundations:\n",
    "The foundations of ML include:\n",
    "\n",
    "Statistics\n",
    "Mathematical Optimization\n",
    "Data Mining, which focuses on exploratory data analysis through unsupervised learning.\n",
    "Theoretical Framework:\n",
    "From a theoretical perspective, Probably Approximately Correct (PAC) learning offers a framework to describe machine learning processes.\n",
    "\n",
    "Historical Context\n",
    "The term \"machine learning\" was coined by Arthur Samuel in 1959, a pioneer in computer gaming and AI. Samuel's early model involved a program that calculated the winning chances in checkers.\n",
    "\n",
    "The roots of ML trace back to decades of research into human cognitive processes:\n",
    "\n",
    "In 1949, Canadian psychologist Donald Hebb introduced a theoretical model of neural structures in his book The Organization of Behavior. This model laid the groundwork for artificial neural networks.\n",
    "Walter Pitts and Warren McCulloch contributed to the early mathematical models of neural networks, which aimed to mirror human thought processes.\n",
    "In the early 1960s, Raytheon Company developed an experimental \"learning machine\" named Cybertron. It used punched tape memory to analyze sonar signals and speech patterns, employing basic reinforcement learning techniques. It was trained by human operators and included a \"goof\" button for reevaluating incorrect decisions.\n",
    "\n",
    "Notable developments in ML continued throughout the 1960s and 1970s:\n",
    "\n",
    "Nilsson's book on learning machines focused on pattern classification.\n",
    "Research into pattern recognition persisted, as documented by Duda and Hart in 1973.\n",
    "In 1981, a report detailed an artificial neural network learning to recognize 40 characters, including letters, digits, and special symbols.\n",
    "'''\n",
    "print(Result_of_unstructure_text)"
   ]
  },
  {
   "cell_type": "markdown",
   "metadata": {},
   "source": [
    "# Task 3: Extract data(Because of token limit i used small text not 30 pages)"
   ]
  },
  {
   "cell_type": "code",
   "execution_count": 49,
   "metadata": {},
   "outputs": [],
   "source": [
    "# Pick any 30+ page text (without copyright). Pick any 5 facts that you want to extract from the text (characters, locations, plot, used model of cars, etc) (use some book from https://www.gutenberg.org as example)\n",
    "# Create prompt that returns 2-3 paragraph summary & extracts the facts you have pick.\n",
    "# # Verify that summary and facts are correct"
   ]
  },
  {
   "cell_type": "code",
   "execution_count": 51,
   "metadata": {},
   "outputs": [
    {
     "name": "stdout",
     "output_type": "stream",
     "text": [
      "HOUSES WITH SECRET CHAMBERS.\n",
      "Though we have on former occasions referred to houses with lurking-places, or secret chambers, the subject seems to be of such interest as to warrant our giving some further examples.\n",
      "\n",
      "Plowden Hall, county of Salop, with ‘its gable ends, high chimneys, its floors, staircases, and doors of solid oak, and walls covered with oak panelling,’ is described as being full of nooks and corners. There is a hiding-hole in the closet of one of the bedrooms, where the boards of the flooring are so arranged as to be easily moved; and underneath is a trap-door, by which a small ladder leads down into a dark hole where there is just room enough for a man to change his position with ease from a standing to a sitting posture. There is a shelf, on which the concealed person could eat his food. Tradition states that a priest was actually concealed there for a fortnight whilst Cromwell’s soldiers were posted outside the gates; and that these were obliged to leave without having discovered him. Besides this hiding-place, there is an escape about the width and form of a chimney, reaching from one of the bedrooms down to the ground-floor of the house, to which a man might be lowered by means of a rope. There is also an outlet over the chapel through two trap-doors on to the roof, where a person might escape between the eaves of the house; and a portion of the flooring of the chapel is so formed as to lift up and cover a hiding-place below for concealing the sacred vessels.\n",
      "\n",
      "Raglan Castle, Hallam, Derbyshire; Maple-Durham House, Oxon; Oxburgh Hall, Norfolk; Coughton Hall, Warwickshire; Harrowden, the seat of the Lords Vaux; and the old Manor-house, Long Clawson, each has its lurking-holes and secret chamber. That in the last named quaint, old, picturesque-looking house is reached by the chimney of one of the sitting-rooms.\n",
      "\n",
      "‘White Welles House, which lies on the borders of Enfield Chase, is said to have been’ full of holes, dark mysterious vaults, and subterranean passages.\n",
      "\n",
      "Recusants and priests found refuge in Little Malvern Court in the days of their persecution, the position of one or two hiding-places in the roof being still pointed out.\n",
      "\n",
      "A secret chamber in Lowstock Hall, in the parish of Bolton, Lancashire, which was pulled down in 1816, was associated with blood-stains on the hearthstone of one of the rooms, and the supposed murder of a priest in the troublous times.\n",
      "\n",
      "In connection with Yorkshire, the old Red House is made mention of as having had a secret chamber and gallery underneath the roof. These were brought to light some years ago when workmen were employed in making repairs and alterations on the mansion. The noted royalist, Sir Henry Slingsby, lay for a time concealed in the hiding-place thus skilfully contrived; but venturing forth one moonlight night to enjoy the freedom of a walk in his garden, he was seen by a servant-man, who betrayed him to his enemies; and soon after the gallant old colonel was seized, conveyed to London, and beheaded on Tower Hill.\n",
      "\n",
      "Kingerby Old Hall, situated in the same county, was also possessed of one or more secret chambers.\n",
      "\n",
      "Ashbourne Place, in Sussex, which was said to have been built by a brother of Bishop Juxon, was often made use of as a place of refuge by that persecuted prelate after the death of Charles I. At the time when his royal master was beheaded, Juxon was Bishop of London and Clerk of the Closet; and being implicitly trusted by his royal master, to whom he was devotedly attached, he received his last confidences on the scaffold, and his George, with the oft-referred-to word, ‘Remember!’ The father of the present proprietor of Ashbourne, in opening a communication between the back and front chambers, discovered a room, the existence of which was previously unknown, and to which access could only have been gained through the chimney. In all probability, this curious retreat was Bishop Juxon’s hiding-place.\n",
      "\n",
      "{642}\n",
      "\n",
      "There is a gallery situated in the attic story of the mansion at Stanford Court, in Worcestershire, in which Arthur Salwin—an ancestor of the present proprietor of the estate, who lived in the reigns of Elizabeth and James I.—and his four sons and seven daughters, together with others of their kindred, are portrayed on the oak-panelled walls of the room in the costume of the day; the ladies in embroidered dresses, with jewelled ornaments. Underneath each figure is a motto in Latin. Behind the panels are secret passages, which, previous to the alterations of modern times, extended over a great part of the mansion.\n",
      "\n",
      "Sanston Hall, the seat of the ancient family of Huddlestone, in Cambridgeshire, was destroyed on account of the owner’s adherence to the ancient faith, and rebuilt in the time of Queen Mary, when the precaution was taken to erect a chapel in the roof. It is approached by a winding staircase, which also gives access to a secret chamber. In the hiding-place near the chapel in the roof at the top of the old winding staircase, there were found some oyster-shells; and a fowl’s bone was picked up in the one belonging to Lydiate Hall—relics of some poor prisoner’s solitary meal.\n",
      "\n",
      "Upton Court, near Reading, the former residence of the Perkyns family, has also its hidden retreat, which is difficult of access, being approached by a trap-door in the midst of a chimney-stack near the lesser Hall.\n",
      "\n",
      "About the beginning of the present, or the end of last century, a secret chamber was accidentally discovered in the ancient mansion of Bourton-on-the-Water, a ‘large rambling house of many gables,’ situated in Gloucestershire. The door appeared on tearing off the paper which was about to be removed. It was on the second (or upper) floor landing-place, and opened into a small chamber about eight feet square, containing a chair and a table. On the back of the former lay a black robe; and the whole had the appearance as if some one had recently risen from his seat and left the room. On the same floor there were several other apartments, of which three only were in use, the other (called the Dark Room) having been locked up for many years. Of the three in use, one was styled the Chapel, and another the Priest’s Room. The former had a vaulted roof or ceiling. All three were supposed by the villagers to be haunted, and they had been known by the above appellations in the family long anterior to the discovery of the door. This interesting old mansion was sold in 1608 to Sir Thomas Edwards, treasurer of the royal household, and subsequently privy-councillor to Charles I., and it was probably during his occupancy that Charles is said to have passed the first night there on his way from Oxford. Since 1834, this house—except a small part of the south front—was pulled down, the fine old trees in which it was embosomed felled, the shrubberies made away with, the pleasure-grounds converted into pasture, and the remains of the house into a dispensary!\n",
      "\n",
      "The hiding-place in Heale House, near Amesbury, in Wilts, for several days formed a retreat for King Charles II. after the battle of Worcester.\n",
      "\n",
      "In the course of this century, a movable panel was discovered in a small panelled room in the old manor-house of Chelvey, county of Somerset. This aperture, for some unexplained reason, was closed up hastily, and the spring by which it was opened was said to be lost. In an adjoining room, which was much larger, and panelled in a similar manner, there was a cupboard, the floor of which—afterwards nailed down—had been formerly movable. Underneath was a short flight of steps, which again ascended, and led to a pretty long but very narrow room at the back of the fireplace. This concealed chamber was furnished with an iron sconce projecting from the wall, to hold a candle, and was also provided with a small fireplace.\n",
      "\n",
      "Parham, which belongs to the Curzon family, has a secret chamber close to the chapel in the roof of the house, and the way down to it is through a bench standing out from the wall.\n",
      "\n",
      "Captain Duthy, in his History of Hampshire, says ‘that the old house at Hinton-Ampner, in that county, was subjected to the evil report of being haunted; that strange and unaccountable circumstances did occur there, by which the peace and comfort of a most respectable and otherwise strong-minded lady, at that time occupier of the mansion, were essentially interfered with by noises and interruptions that to her appeared awful and unearthly, and which finally led to her giving up the house. Afterwards, on its being taken down, it was discovered that in the thickness of the walls were secret passages and stairs not generally known to exist, which afforded peculiar facilities for any one carrying on without detection the mysteries of a haunted house.’\n",
      "\n",
      "The following extract, taken from a state paper in the public Record Office, is preserved among others relating to the Rebellion of 1745, and obviously has reference to the search that was being made all over the country for suspected persons. Worksop Manor as it then stood is said to have been burned down in 1761. Examination of Elizabeth Brown, taken upon oath before Richard Bagshaw, the 24th November 1745—‘Who says that nine years ago last spring, upon that Easter Monday, she, Catherine Marshall, and another young woman, went to Worksop Manor to see Elizabeth Walkden, who lived as a servant with the Duke of Norfolk there; and desiring to look at the house, the said Elizabeth Walkden, she believed, showed them most of the rooms of the house; and at last coming upon the leads of the house, and walking and looking about them, the said Elizabeth Walkden said she would let them see a greater variety than they had yet seen; after which she raised up the ledge of a sheet of lead with her knife till she got her fingers under it, and then she{643} desired them to assist her, which they did; and then under that she took up a trap-door where there was a flight of stairs, which they went down, into a little room which was all dark; that the said Elizabeth Walkden opening the window-shutter, there was a fireplace, a bed, and a few chairs in the said room; and asking her what use that room was for, she said it was to hide people in trouble—sometimes. Then the said Elizabeth Walkden went to the side of the room next to the stair-foot, and opened a door in the wainscot about the middle of the height of the room, which they looked into, but it being dark, they could not see anything in it; but the said Elizabeth Walkden said they could not go into it, as it was full of arms; upon which the said Elizabeth Walkden shut the door, and they went up-stairs; and then she shut the trap-door, and laid down the sheet of lead as it was before, which was so nice she could not discern it from another part of the leads, and believes she could not find it if she were there again.’\n",
      "\n",
      "In a very old house entered from the High Street of Canterbury, and nearly facing Mersey Lane, which leads straight to the cathedral, one of the rooms had a window opening into an adjoining church. In the thickness of the walls there were two or three secret stairs. It was said to have been a nunnery formerly; and that a subterranean passage, it was ascertained, used to unite it with the cathedral.\n",
      "\n",
      "Woodcote, Hampshire; Coldham House, Suffolk; Watcomb and Maple-Durham, Berkshire; Stonyhurst in Lancashire; Treago, Herefordshire; Harborough Hall, situated midway between Hagley and Kidderminster, all had their secret chambers; and the ancient seat of the Tichbornes was similarly provided, together with a complication of secret passages and stairs.\n",
      "\n",
      "Compton Wynyates, a remote and picturesque mansion belonging to the Marquis of Northampton, has an upper chapel in the topmost gable, with ancient wooden altar, three staircases leading to the Priest’s room in the lower story, secret passages, and hiding-places behind the wainscoting spacious enough to hold one hundred persons in case of alarm. The existence of such a chapel sufficiently indicates that the rites of the old religion were practised in private, although the Protestant place of worship remained open below.\n",
      "\n",
      "In Essex, the Wisemans of Braddox or Broadoaks were of the number of those who suffered during the reigns of Elizabeth and James for their noted ‘harbouring of priests.’ In P. R. O. Dom. Elizabeth, vol. 244, n. 7, may be seen two forms of indictment of Richard Jackson, priest, for saying mass at Braddox, and of various members of the Wiseman family for being present at mass on the 25th August and the 8th of September 1592. Again: ‘Mr Worseley and Mr Newall have been to Widow Wiseman’s house in Essex, and found a mass preparing; but the priest escaped.’ There were two hiding-places in Braddox: the most important of these adjoined the chapel, and was constructed in a thick wall of the chimney, behind a finely laid and carved mantel-piece.\n",
      "\n",
      "In connection with the old mansion of the Carylls at West Grinstead, the Abbé Denis tells us that it also has two hiding-places. ‘One of these is between the mantel-piece and ceiling of the dining-room; and the way to get to it is to go up the flue of the chimney as high as the ceiling of the room on the second floor; and then, by an aperture in the side of the chimney or flue, to drop down into the hiding-hole. Another opening also exists in the chimney of the room above. The second place of concealment is quite underneath the roof of the house. It had likewise two ways of access—the one from an attic, the other from a closet or small room underneath.’ In Benton, the original seat of the Carylls in Sussex, there is one on the ground-floor between two kitchen chimneys, which is entered by an opening in the room at the back. At New Building, a house more recently erected by the Carylls, there are also two secret rooms; one on the second floor, formed in the thickness of the wall between two chimneys, but entered by a concealed door in one of the two adjoining rooms. The other is in the opposite gable, and is entered from the room on the ground-floor below, through the top of a cupboard which stands in the wall close to the chimney.\n",
      "\n",
      "The walls of the ‘ancient moated and turreted mansion’ of Lyford, Berks, were ‘pierced with concealed galleries and hiding-places;’ one of the latter was excavated in the wall above the gateway.\n",
      "\n",
      "Several ‘hiding-holes’ have also come to light in the fine old house of Sutton Place, near Guildford, Surrey; and some years ago, a ‘most beautifully embossed leather casket, iron-bound, containing relics of some of the martyred priests,’ was found in one of these places of concealment behind the wainscot panelling of the chapel. A curious printed volume entitled A Sure Haven against Shipwreck was found concealed ‘between the floor and the ceiling.’ It would seem that Brother Nicholas Owen, alias Little John, S.J., ‘that useful cunning joiner of those times,’ was the constructer of many of these secret rooms, to be found in the greater portion of our ‘stately homes of England,’ for we read in Records of the English Provinces that ‘he was divers times hung upon a Topcliff rack in the Tower of London, to compel him to betray the hiding-places he had made up and down the land.’ This said ‘skilful architect’ was afterwards seized, according to the same authority, in company with Fathers Garnet and Oldcorne, in one of the numerous hiding-places in Hendlip House, near Worcester, already referred to in No. 1040 of this Journal. The secret chamber in which these Jesuit Fathers were concealed is thus described in Lingard’s England: ‘The opening was from an upper room through the fireplace. The wooden border of the hearth was made to take up and put down like a trap-door, and the bricks were taken out and replaced in their courses whenever it was used.’ The former Westons of Sutton Place were well known to government as shelterers of priests. It was searched on the 5th of November 1578, by order of the Privy-council, for ‘popish priests;’ and again on the 14th of January 1591, for one Morgan, a ‘massing priest,’ supposed to be ‘lurking there in secret sort.’\n",
      "\n",
      "The far-famed ‘Burleigh Park by Stamford Town’ is also in possession of a secret chamber. This concealed apartment, of whose existence the{644} family were altogether unaware, was brought to light in the course of this century through the instrumentality of the law agent, and was found to contain furniture of an old-fashioned description, together with several framed engravings. These latter, when agitated by the wind, which found its way in through a broken window-pane, struck against the wall, thereby producing a flapping noise, which had long procured for the adjoining sleeping apartment the designation of ‘the Haunted Room.’\n",
      "\n",
      "The grand old historic mansion of Knebworth, Herts, like others of similar age and importance, possessed trap-doors, hiding-places, &c.; and underneath a room adjoining the so-styled ‘Haunted Chamber,’ and belonging to one of the square towers of the gateway, there was a mysterious room or oubliette, of which the late Lord Lytton thus speaks: ‘How could I help writing romances, when I had walked, trembling at my own footsteps, through that long gallery with its ghostly portraits, mused in these tapestry chambers, and passed with bristling hair into the shadowy abysses’ of the secret chamber. This portion of Knebworth was pulled down in 1812.\n",
      "\n",
      "Referring to houses north of the Border having secret chambers, Sir Walter Scott says: ‘There were few Scottish houses belonging to families of rank which had not such contrivances, the political incidents of the times often calling them into occupation.’ ‘The concealed apartment opening by a sliding panel into the parlour,’ in the old mansion-house of Swinton, is made good use of by Sir Walter in his beautiful novel of Peveril of the Peak.\n",
      "\n",
      "Some ten or twelve years ago, while workmen were employed in making alterations at the house of Nunraw, near the village of Garvald, Haddingtonshire, they came upon a secret chamber in the depth of one of the walls, which on inspection was found to contain some mummies, pictures, and other property. In olden times, Nunraw was a nunnery belonging to the priory of Haddington, and though modernised, still exhibits evident marks of great antiquity.\n",
      "\n",
      "There is an apartment now used as a bedroom in Sir George Warrender’s house at Bruntsfield, near Edinburgh, which, however, can hardly be called a secret chamber, inasmuch as it possesses windows and two external walls, but having the interior walls on both sides of the entrance of great thickness. The history of this room is somewhat obscure. It is said to have been used as a place of concealment for certain Jacobites after the rebellion of 1745; and blood-stains, which are still distinctly visible on the floor, point remotely to this theory. Another story is that a cadet of the house of Warrender returned from Carlisle about 1760, and shortly afterwards died in this room, which was immediately bricked up, so that all evidences of the event might be removed. In any case, the room had remained sealed up beyond the recollection of any one familiar with the house, and the ivy with which the walls were at this time covered, had almost entirely obliterated any external traces. It was rediscovered about sixty years ago by Lee, the English landscape painter, who, when sketching the house, found himself putting in windows of which he could not remember the rooms. When opened, the room presented the appearance of having been left hurriedly, by a departing guest, everything being in disorder, even to the ashes left undisturbed in the grate. Bruntsfield House dates from 1605.\n",
      "\n",
      "BY ORDER OF THE LEAGUE.\n",
      "CHAPTER V.\n",
      "The weeping woman looked up, and beheld the loveliest face she had ever seen. The girl standing before her possessed all the attributes of southern beauty. Her hair, which was long and luxuriant, hung in one thick plait down her back, and lay in careless waves upon a forehead pure as chiselled marble; her face was full, with deep red flushed under the transparent skin; her features exquisitely moulded; whilst her eyes, deep as running water, conveyed an air of pride and power—a sense of passion equally capable of looking implacable hate or fondest love. They were commanding now, as the woman looked up in the stranger’s face.\n",
      "\n",
      "‘Who are you?’ she asked wonderingly.\n",
      "\n",
      "‘Men call me Isodore,’ the stranger replied in a voice singularly sweet. ‘I have no other name. Will you let me look at the coin you have in your hand?’\n",
      "\n",
      "Never dreaming of refusing this request, the woman handed over the gold piece to the girl, who looked at it long and intently. Her eyes were hard and stern when she spoke again. ‘Where did you get this?’ she asked.\n",
      "\n",
      "‘It was given me to stake at the table. I noticed that it bore some device, and I exchanged it for a coin of my own.’\n",
      "\n",
      "‘It has no meaning to you! It is not possible you are one of us?’\n",
      "\n",
      "‘I do not understand you,’ the woman replied. ‘It is a curious coin. I have seen one once before—that is all I know of it.’\n",
      "\n",
      "‘Listen!’ the girl said in a hushed voice. ‘You do not comprehend what its possession means to you. It is the symbol, the sign of membership of the strongest political Brotherhood in Europe. If it was known to be in your possession, your life would pay the forfeit; it would be regained at all hazards. If one of the Brotherhood knew another had deliberately parted with it, I would not give a hair for his life.’\n",
      "\n",
      "‘And he is in danger of his life!’ the woman cried, starting to her feet. ‘Give it me, that I may return it to him.’\n",
      " returns 2-3 paragraph summary & Pick any 5 facts that you want to extract from the text (characters, locations, plot, used model of cars, etc)\n"
     ]
    }
   ],
   "source": [
    "text = '''HOUSES WITH SECRET CHAMBERS.\n",
    "Though we have on former occasions referred to houses with lurking-places, or secret chambers, the subject seems to be of such interest as to warrant our giving some further examples.\n",
    "\n",
    "Plowden Hall, county of Salop, with ‘its gable ends, high chimneys, its floors, staircases, and doors of solid oak, and walls covered with oak panelling,’ is described as being full of nooks and corners. There is a hiding-hole in the closet of one of the bedrooms, where the boards of the flooring are so arranged as to be easily moved; and underneath is a trap-door, by which a small ladder leads down into a dark hole where there is just room enough for a man to change his position with ease from a standing to a sitting posture. There is a shelf, on which the concealed person could eat his food. Tradition states that a priest was actually concealed there for a fortnight whilst Cromwell’s soldiers were posted outside the gates; and that these were obliged to leave without having discovered him. Besides this hiding-place, there is an escape about the width and form of a chimney, reaching from one of the bedrooms down to the ground-floor of the house, to which a man might be lowered by means of a rope. There is also an outlet over the chapel through two trap-doors on to the roof, where a person might escape between the eaves of the house; and a portion of the flooring of the chapel is so formed as to lift up and cover a hiding-place below for concealing the sacred vessels.\n",
    "\n",
    "Raglan Castle, Hallam, Derbyshire; Maple-Durham House, Oxon; Oxburgh Hall, Norfolk; Coughton Hall, Warwickshire; Harrowden, the seat of the Lords Vaux; and the old Manor-house, Long Clawson, each has its lurking-holes and secret chamber. That in the last named quaint, old, picturesque-looking house is reached by the chimney of one of the sitting-rooms.\n",
    "\n",
    "‘White Welles House, which lies on the borders of Enfield Chase, is said to have been’ full of holes, dark mysterious vaults, and subterranean passages.\n",
    "\n",
    "Recusants and priests found refuge in Little Malvern Court in the days of their persecution, the position of one or two hiding-places in the roof being still pointed out.\n",
    "\n",
    "A secret chamber in Lowstock Hall, in the parish of Bolton, Lancashire, which was pulled down in 1816, was associated with blood-stains on the hearthstone of one of the rooms, and the supposed murder of a priest in the troublous times.\n",
    "\n",
    "In connection with Yorkshire, the old Red House is made mention of as having had a secret chamber and gallery underneath the roof. These were brought to light some years ago when workmen were employed in making repairs and alterations on the mansion. The noted royalist, Sir Henry Slingsby, lay for a time concealed in the hiding-place thus skilfully contrived; but venturing forth one moonlight night to enjoy the freedom of a walk in his garden, he was seen by a servant-man, who betrayed him to his enemies; and soon after the gallant old colonel was seized, conveyed to London, and beheaded on Tower Hill.\n",
    "\n",
    "Kingerby Old Hall, situated in the same county, was also possessed of one or more secret chambers.\n",
    "\n",
    "Ashbourne Place, in Sussex, which was said to have been built by a brother of Bishop Juxon, was often made use of as a place of refuge by that persecuted prelate after the death of Charles I. At the time when his royal master was beheaded, Juxon was Bishop of London and Clerk of the Closet; and being implicitly trusted by his royal master, to whom he was devotedly attached, he received his last confidences on the scaffold, and his George, with the oft-referred-to word, ‘Remember!’ The father of the present proprietor of Ashbourne, in opening a communication between the back and front chambers, discovered a room, the existence of which was previously unknown, and to which access could only have been gained through the chimney. In all probability, this curious retreat was Bishop Juxon’s hiding-place.\n",
    "\n",
    "{642}\n",
    "\n",
    "There is a gallery situated in the attic story of the mansion at Stanford Court, in Worcestershire, in which Arthur Salwin—an ancestor of the present proprietor of the estate, who lived in the reigns of Elizabeth and James I.—and his four sons and seven daughters, together with others of their kindred, are portrayed on the oak-panelled walls of the room in the costume of the day; the ladies in embroidered dresses, with jewelled ornaments. Underneath each figure is a motto in Latin. Behind the panels are secret passages, which, previous to the alterations of modern times, extended over a great part of the mansion.\n",
    "\n",
    "Sanston Hall, the seat of the ancient family of Huddlestone, in Cambridgeshire, was destroyed on account of the owner’s adherence to the ancient faith, and rebuilt in the time of Queen Mary, when the precaution was taken to erect a chapel in the roof. It is approached by a winding staircase, which also gives access to a secret chamber. In the hiding-place near the chapel in the roof at the top of the old winding staircase, there were found some oyster-shells; and a fowl’s bone was picked up in the one belonging to Lydiate Hall—relics of some poor prisoner’s solitary meal.\n",
    "\n",
    "Upton Court, near Reading, the former residence of the Perkyns family, has also its hidden retreat, which is difficult of access, being approached by a trap-door in the midst of a chimney-stack near the lesser Hall.\n",
    "\n",
    "About the beginning of the present, or the end of last century, a secret chamber was accidentally discovered in the ancient mansion of Bourton-on-the-Water, a ‘large rambling house of many gables,’ situated in Gloucestershire. The door appeared on tearing off the paper which was about to be removed. It was on the second (or upper) floor landing-place, and opened into a small chamber about eight feet square, containing a chair and a table. On the back of the former lay a black robe; and the whole had the appearance as if some one had recently risen from his seat and left the room. On the same floor there were several other apartments, of which three only were in use, the other (called the Dark Room) having been locked up for many years. Of the three in use, one was styled the Chapel, and another the Priest’s Room. The former had a vaulted roof or ceiling. All three were supposed by the villagers to be haunted, and they had been known by the above appellations in the family long anterior to the discovery of the door. This interesting old mansion was sold in 1608 to Sir Thomas Edwards, treasurer of the royal household, and subsequently privy-councillor to Charles I., and it was probably during his occupancy that Charles is said to have passed the first night there on his way from Oxford. Since 1834, this house—except a small part of the south front—was pulled down, the fine old trees in which it was embosomed felled, the shrubberies made away with, the pleasure-grounds converted into pasture, and the remains of the house into a dispensary!\n",
    "\n",
    "The hiding-place in Heale House, near Amesbury, in Wilts, for several days formed a retreat for King Charles II. after the battle of Worcester.\n",
    "\n",
    "In the course of this century, a movable panel was discovered in a small panelled room in the old manor-house of Chelvey, county of Somerset. This aperture, for some unexplained reason, was closed up hastily, and the spring by which it was opened was said to be lost. In an adjoining room, which was much larger, and panelled in a similar manner, there was a cupboard, the floor of which—afterwards nailed down—had been formerly movable. Underneath was a short flight of steps, which again ascended, and led to a pretty long but very narrow room at the back of the fireplace. This concealed chamber was furnished with an iron sconce projecting from the wall, to hold a candle, and was also provided with a small fireplace.\n",
    "\n",
    "Parham, which belongs to the Curzon family, has a secret chamber close to the chapel in the roof of the house, and the way down to it is through a bench standing out from the wall.\n",
    "\n",
    "Captain Duthy, in his History of Hampshire, says ‘that the old house at Hinton-Ampner, in that county, was subjected to the evil report of being haunted; that strange and unaccountable circumstances did occur there, by which the peace and comfort of a most respectable and otherwise strong-minded lady, at that time occupier of the mansion, were essentially interfered with by noises and interruptions that to her appeared awful and unearthly, and which finally led to her giving up the house. Afterwards, on its being taken down, it was discovered that in the thickness of the walls were secret passages and stairs not generally known to exist, which afforded peculiar facilities for any one carrying on without detection the mysteries of a haunted house.’\n",
    "\n",
    "The following extract, taken from a state paper in the public Record Office, is preserved among others relating to the Rebellion of 1745, and obviously has reference to the search that was being made all over the country for suspected persons. Worksop Manor as it then stood is said to have been burned down in 1761. Examination of Elizabeth Brown, taken upon oath before Richard Bagshaw, the 24th November 1745—‘Who says that nine years ago last spring, upon that Easter Monday, she, Catherine Marshall, and another young woman, went to Worksop Manor to see Elizabeth Walkden, who lived as a servant with the Duke of Norfolk there; and desiring to look at the house, the said Elizabeth Walkden, she believed, showed them most of the rooms of the house; and at last coming upon the leads of the house, and walking and looking about them, the said Elizabeth Walkden said she would let them see a greater variety than they had yet seen; after which she raised up the ledge of a sheet of lead with her knife till she got her fingers under it, and then she{643} desired them to assist her, which they did; and then under that she took up a trap-door where there was a flight of stairs, which they went down, into a little room which was all dark; that the said Elizabeth Walkden opening the window-shutter, there was a fireplace, a bed, and a few chairs in the said room; and asking her what use that room was for, she said it was to hide people in trouble—sometimes. Then the said Elizabeth Walkden went to the side of the room next to the stair-foot, and opened a door in the wainscot about the middle of the height of the room, which they looked into, but it being dark, they could not see anything in it; but the said Elizabeth Walkden said they could not go into it, as it was full of arms; upon which the said Elizabeth Walkden shut the door, and they went up-stairs; and then she shut the trap-door, and laid down the sheet of lead as it was before, which was so nice she could not discern it from another part of the leads, and believes she could not find it if she were there again.’\n",
    "\n",
    "In a very old house entered from the High Street of Canterbury, and nearly facing Mersey Lane, which leads straight to the cathedral, one of the rooms had a window opening into an adjoining church. In the thickness of the walls there were two or three secret stairs. It was said to have been a nunnery formerly; and that a subterranean passage, it was ascertained, used to unite it with the cathedral.\n",
    "\n",
    "Woodcote, Hampshire; Coldham House, Suffolk; Watcomb and Maple-Durham, Berkshire; Stonyhurst in Lancashire; Treago, Herefordshire; Harborough Hall, situated midway between Hagley and Kidderminster, all had their secret chambers; and the ancient seat of the Tichbornes was similarly provided, together with a complication of secret passages and stairs.\n",
    "\n",
    "Compton Wynyates, a remote and picturesque mansion belonging to the Marquis of Northampton, has an upper chapel in the topmost gable, with ancient wooden altar, three staircases leading to the Priest’s room in the lower story, secret passages, and hiding-places behind the wainscoting spacious enough to hold one hundred persons in case of alarm. The existence of such a chapel sufficiently indicates that the rites of the old religion were practised in private, although the Protestant place of worship remained open below.\n",
    "\n",
    "In Essex, the Wisemans of Braddox or Broadoaks were of the number of those who suffered during the reigns of Elizabeth and James for their noted ‘harbouring of priests.’ In P. R. O. Dom. Elizabeth, vol. 244, n. 7, may be seen two forms of indictment of Richard Jackson, priest, for saying mass at Braddox, and of various members of the Wiseman family for being present at mass on the 25th August and the 8th of September 1592. Again: ‘Mr Worseley and Mr Newall have been to Widow Wiseman’s house in Essex, and found a mass preparing; but the priest escaped.’ There were two hiding-places in Braddox: the most important of these adjoined the chapel, and was constructed in a thick wall of the chimney, behind a finely laid and carved mantel-piece.\n",
    "\n",
    "In connection with the old mansion of the Carylls at West Grinstead, the Abbé Denis tells us that it also has two hiding-places. ‘One of these is between the mantel-piece and ceiling of the dining-room; and the way to get to it is to go up the flue of the chimney as high as the ceiling of the room on the second floor; and then, by an aperture in the side of the chimney or flue, to drop down into the hiding-hole. Another opening also exists in the chimney of the room above. The second place of concealment is quite underneath the roof of the house. It had likewise two ways of access—the one from an attic, the other from a closet or small room underneath.’ In Benton, the original seat of the Carylls in Sussex, there is one on the ground-floor between two kitchen chimneys, which is entered by an opening in the room at the back. At New Building, a house more recently erected by the Carylls, there are also two secret rooms; one on the second floor, formed in the thickness of the wall between two chimneys, but entered by a concealed door in one of the two adjoining rooms. The other is in the opposite gable, and is entered from the room on the ground-floor below, through the top of a cupboard which stands in the wall close to the chimney.\n",
    "\n",
    "The walls of the ‘ancient moated and turreted mansion’ of Lyford, Berks, were ‘pierced with concealed galleries and hiding-places;’ one of the latter was excavated in the wall above the gateway.\n",
    "\n",
    "Several ‘hiding-holes’ have also come to light in the fine old house of Sutton Place, near Guildford, Surrey; and some years ago, a ‘most beautifully embossed leather casket, iron-bound, containing relics of some of the martyred priests,’ was found in one of these places of concealment behind the wainscot panelling of the chapel. A curious printed volume entitled A Sure Haven against Shipwreck was found concealed ‘between the floor and the ceiling.’ It would seem that Brother Nicholas Owen, alias Little John, S.J., ‘that useful cunning joiner of those times,’ was the constructer of many of these secret rooms, to be found in the greater portion of our ‘stately homes of England,’ for we read in Records of the English Provinces that ‘he was divers times hung upon a Topcliff rack in the Tower of London, to compel him to betray the hiding-places he had made up and down the land.’ This said ‘skilful architect’ was afterwards seized, according to the same authority, in company with Fathers Garnet and Oldcorne, in one of the numerous hiding-places in Hendlip House, near Worcester, already referred to in No. 1040 of this Journal. The secret chamber in which these Jesuit Fathers were concealed is thus described in Lingard’s England: ‘The opening was from an upper room through the fireplace. The wooden border of the hearth was made to take up and put down like a trap-door, and the bricks were taken out and replaced in their courses whenever it was used.’ The former Westons of Sutton Place were well known to government as shelterers of priests. It was searched on the 5th of November 1578, by order of the Privy-council, for ‘popish priests;’ and again on the 14th of January 1591, for one Morgan, a ‘massing priest,’ supposed to be ‘lurking there in secret sort.’\n",
    "\n",
    "The far-famed ‘Burleigh Park by Stamford Town’ is also in possession of a secret chamber. This concealed apartment, of whose existence the{644} family were altogether unaware, was brought to light in the course of this century through the instrumentality of the law agent, and was found to contain furniture of an old-fashioned description, together with several framed engravings. These latter, when agitated by the wind, which found its way in through a broken window-pane, struck against the wall, thereby producing a flapping noise, which had long procured for the adjoining sleeping apartment the designation of ‘the Haunted Room.’\n",
    "\n",
    "The grand old historic mansion of Knebworth, Herts, like others of similar age and importance, possessed trap-doors, hiding-places, &c.; and underneath a room adjoining the so-styled ‘Haunted Chamber,’ and belonging to one of the square towers of the gateway, there was a mysterious room or oubliette, of which the late Lord Lytton thus speaks: ‘How could I help writing romances, when I had walked, trembling at my own footsteps, through that long gallery with its ghostly portraits, mused in these tapestry chambers, and passed with bristling hair into the shadowy abysses’ of the secret chamber. This portion of Knebworth was pulled down in 1812.\n",
    "\n",
    "Referring to houses north of the Border having secret chambers, Sir Walter Scott says: ‘There were few Scottish houses belonging to families of rank which had not such contrivances, the political incidents of the times often calling them into occupation.’ ‘The concealed apartment opening by a sliding panel into the parlour,’ in the old mansion-house of Swinton, is made good use of by Sir Walter in his beautiful novel of Peveril of the Peak.\n",
    "\n",
    "Some ten or twelve years ago, while workmen were employed in making alterations at the house of Nunraw, near the village of Garvald, Haddingtonshire, they came upon a secret chamber in the depth of one of the walls, which on inspection was found to contain some mummies, pictures, and other property. In olden times, Nunraw was a nunnery belonging to the priory of Haddington, and though modernised, still exhibits evident marks of great antiquity.\n",
    "\n",
    "There is an apartment now used as a bedroom in Sir George Warrender’s house at Bruntsfield, near Edinburgh, which, however, can hardly be called a secret chamber, inasmuch as it possesses windows and two external walls, but having the interior walls on both sides of the entrance of great thickness. The history of this room is somewhat obscure. It is said to have been used as a place of concealment for certain Jacobites after the rebellion of 1745; and blood-stains, which are still distinctly visible on the floor, point remotely to this theory. Another story is that a cadet of the house of Warrender returned from Carlisle about 1760, and shortly afterwards died in this room, which was immediately bricked up, so that all evidences of the event might be removed. In any case, the room had remained sealed up beyond the recollection of any one familiar with the house, and the ivy with which the walls were at this time covered, had almost entirely obliterated any external traces. It was rediscovered about sixty years ago by Lee, the English landscape painter, who, when sketching the house, found himself putting in windows of which he could not remember the rooms. When opened, the room presented the appearance of having been left hurriedly, by a departing guest, everything being in disorder, even to the ashes left undisturbed in the grate. Bruntsfield House dates from 1605.\n",
    "\n",
    "BY ORDER OF THE LEAGUE.\n",
    "CHAPTER V.\n",
    "The weeping woman looked up, and beheld the loveliest face she had ever seen. The girl standing before her possessed all the attributes of southern beauty. Her hair, which was long and luxuriant, hung in one thick plait down her back, and lay in careless waves upon a forehead pure as chiselled marble; her face was full, with deep red flushed under the transparent skin; her features exquisitely moulded; whilst her eyes, deep as running water, conveyed an air of pride and power—a sense of passion equally capable of looking implacable hate or fondest love. They were commanding now, as the woman looked up in the stranger’s face.\n",
    "\n",
    "‘Who are you?’ she asked wonderingly.\n",
    "\n",
    "‘Men call me Isodore,’ the stranger replied in a voice singularly sweet. ‘I have no other name. Will you let me look at the coin you have in your hand?’\n",
    "\n",
    "Never dreaming of refusing this request, the woman handed over the gold piece to the girl, who looked at it long and intently. Her eyes were hard and stern when she spoke again. ‘Where did you get this?’ she asked.\n",
    "\n",
    "‘It was given me to stake at the table. I noticed that it bore some device, and I exchanged it for a coin of my own.’\n",
    "\n",
    "‘It has no meaning to you! It is not possible you are one of us?’\n",
    "\n",
    "‘I do not understand you,’ the woman replied. ‘It is a curious coin. I have seen one once before—that is all I know of it.’\n",
    "\n",
    "‘Listen!’ the girl said in a hushed voice. ‘You do not comprehend what its possession means to you. It is the symbol, the sign of membership of the strongest political Brotherhood in Europe. If it was known to be in your possession, your life would pay the forfeit; it would be regained at all hazards. If one of the Brotherhood knew another had deliberately parted with it, I would not give a hair for his life.’\n",
    "\n",
    "‘And he is in danger of his life!’ the woman cried, starting to her feet. ‘Give it me, that I may return it to him.’\n",
    " returns 2-3 paragraph summary & Pick any 5 facts that you want to extract from the text (characters, locations, plot, used model of cars, etc)'''\n",
    "print(text)"
   ]
  },
  {
   "cell_type": "code",
   "execution_count": 53,
   "metadata": {},
   "outputs": [
    {
     "name": "stdout",
     "output_type": "stream",
     "text": [
      "Secret Chambers in Historical Houses\n",
      "Throughout history, many houses in England were constructed with secret chambers designed to provide refuge for priests and recusants during times of religious persecution, especially during the reigns of Elizabeth I and James I. Notable examples of these homes include Plowden Hall, Raglan Castle, and Ashbourne Place, each featuring cleverly concealed hiding spots such as trap doors, hidden staircases, and false walls. These architectural designs were often sophisticated, with access to secret chambers hidden within the structure itself, demonstrating the ingenuity of those who sought to protect themselves and their beliefs from persecution.\n",
      "\n",
      "The presence of secret chambers reflects the tumultuous political and religious history of the period, illustrating how families navigated danger and maintained their faith amid hostility. This phenomenon is not only significant in the context of historical events but has also captured the imagination of writers and historians alike. Literary references, including those by Sir Walter Scott, highlight the prevalence of these secret designs in Scottish houses of rank, emphasizing their role as sanctuaries during politically charged times. The enduring legacy of these hidden spaces serves as a testament to the resilience and resourcefulness of those who faced adversity.\n"
     ]
    }
   ],
   "source": [
    "summary = '''Secret Chambers in Historical Houses\n",
    "Throughout history, many houses in England were constructed with secret chambers designed to provide refuge for priests and recusants during times of religious persecution, especially during the reigns of Elizabeth I and James I. Notable examples of these homes include Plowden Hall, Raglan Castle, and Ashbourne Place, each featuring cleverly concealed hiding spots such as trap doors, hidden staircases, and false walls. These architectural designs were often sophisticated, with access to secret chambers hidden within the structure itself, demonstrating the ingenuity of those who sought to protect themselves and their beliefs from persecution.\n",
    "\n",
    "The presence of secret chambers reflects the tumultuous political and religious history of the period, illustrating how families navigated danger and maintained their faith amid hostility. This phenomenon is not only significant in the context of historical events but has also captured the imagination of writers and historians alike. Literary references, including those by Sir Walter Scott, highlight the prevalence of these secret designs in Scottish houses of rank, emphasizing their role as sanctuaries during politically charged times. The enduring legacy of these hidden spaces serves as a testament to the resilience and resourcefulness of those who faced adversity.'''\n",
    "print(summary)"
   ]
  },
  {
   "cell_type": "code",
   "execution_count": 54,
   "metadata": {},
   "outputs": [
    {
     "name": "stdout",
     "output_type": "stream",
     "text": [
      "Here are five facts about houses with secret chambers, based on the provided text:\n",
      "\n",
      "Historical Purpose: Many houses with secret chambers were designed as hiding places for priests and recusants during periods of religious persecution in England, particularly during the reigns of Elizabeth I and James I.\n",
      "\n",
      "Examples of Locations: Notable examples of houses with secret chambers include Plowden Hall, Raglan Castle, and Ashbourne Place. Each of these locations has unique hiding spots, such as trap doors, concealed staircases, and hidden rooms.\n",
      "\n",
      "Construction Techniques: The secret chambers were often cleverly concealed within the architecture of the houses. For instance, in some cases, access was gained through false walls, hidden panels, or even inside chimneys.\n",
      "\n",
      "Cultural Significance: The existence of these secret chambers often reflects the tumultuous political and religious history of the times, indicating how families sought to protect themselves and their beliefs from persecution.\n",
      "\n",
      "Literary References: The phenomenon of secret chambers has been referenced in literature, including works by Sir Walter Scott, who noted that Scottish houses of rank frequently featured such designs to provide refuge during politically charged times.\n"
     ]
    }
   ],
   "source": [
    "facts  = '''Here are five facts about houses with secret chambers, based on the provided text:\n",
    "\n",
    "Historical Purpose: Many houses with secret chambers were designed as hiding places for priests and recusants during periods of religious persecution in England, particularly during the reigns of Elizabeth I and James I.\n",
    "\n",
    "Examples of Locations: Notable examples of houses with secret chambers include Plowden Hall, Raglan Castle, and Ashbourne Place. Each of these locations has unique hiding spots, such as trap doors, concealed staircases, and hidden rooms.\n",
    "\n",
    "Construction Techniques: The secret chambers were often cleverly concealed within the architecture of the houses. For instance, in some cases, access was gained through false walls, hidden panels, or even inside chimneys.\n",
    "\n",
    "Cultural Significance: The existence of these secret chambers often reflects the tumultuous political and religious history of the times, indicating how families sought to protect themselves and their beliefs from persecution.\n",
    "\n",
    "Literary References: The phenomenon of secret chambers has been referenced in literature, including works by Sir Walter Scott, who noted that Scottish houses of rank frequently featured such designs to provide refuge during politically charged times.'''\n",
    "print(facts)"
   ]
  },
  {
   "cell_type": "code",
   "execution_count": 59,
   "metadata": {},
   "outputs": [
    {
     "data": {
      "text/plain": [
       "'C:\\\\Users\\\\Rishabh'"
      ]
     },
     "execution_count": 59,
     "metadata": {},
     "output_type": "execute_result"
    }
   ],
   "source": [
    "pwd"
   ]
  },
  {
   "cell_type": "code",
   "execution_count": null,
   "metadata": {},
   "outputs": [],
   "source": []
  }
 ],
 "metadata": {
  "kernelspec": {
   "display_name": "Python 3",
   "language": "python",
   "name": "python3"
  },
  "language_info": {
   "codemirror_mode": {
    "name": "ipython",
    "version": 3
   },
   "file_extension": ".py",
   "mimetype": "text/x-python",
   "name": "python",
   "nbconvert_exporter": "python",
   "pygments_lexer": "ipython3",
   "version": "3.8.5"
  }
 },
 "nbformat": 4,
 "nbformat_minor": 4
}
